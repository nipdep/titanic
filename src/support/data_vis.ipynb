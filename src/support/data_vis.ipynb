{
 "metadata": {
  "language_info": {
   "codemirror_mode": {
    "name": "ipython",
    "version": 3
   },
   "file_extension": ".py",
   "mimetype": "text/x-python",
   "name": "python",
   "nbconvert_exporter": "python",
   "pygments_lexer": "ipython3",
   "version": "3.7.7-final"
  },
  "orig_nbformat": 2,
  "kernelspec": {
   "name": "python3",
   "display_name": "Python 3.7.7 64-bit ('.virtualenv')",
   "metadata": {
    "interpreter": {
     "hash": "b0ff01f1b44e16129cb72795b1a70e885cce73264b4598308d3e828a94b27e74"
    }
   }
  }
 },
 "nbformat": 4,
 "nbformat_minor": 2,
 "cells": [
  {
   "cell_type": "code",
   "execution_count": 1,
   "metadata": {},
   "outputs": [
    {
     "output_type": "error",
     "ename": "NameError",
     "evalue": "name 'pandas' is not defined",
     "traceback": [
      "\u001b[1;31m---------------------------------------------------------------------------\u001b[0m",
      "\u001b[1;31mNameError\u001b[0m                                 Traceback (most recent call last)",
      "\u001b[1;32m<ipython-input-1-068244f7ed4b>\u001b[0m in \u001b[0;36m<module>\u001b[1;34m\u001b[0m\n\u001b[1;32m----> 1\u001b[1;33m \u001b[0mpandas\u001b[0m\u001b[1;33m.\u001b[0m\u001b[0m__version__\u001b[0m\u001b[1;33m\u001b[0m\u001b[1;33m\u001b[0m\u001b[0m\n\u001b[0m",
      "\u001b[1;31mNameError\u001b[0m: name 'pandas' is not defined"
     ]
    }
   ],
   "source": [
    "pandas.__version__"
   ]
  },
  {
   "cell_type": "code",
   "execution_count": null,
   "metadata": {},
   "outputs": [],
   "source": []
  },
  {
   "source": [
    "stages:\n",
    "  feature:\n",
    "    cmd: python src/kitchen_sink/featurize.py data/ data/feature\n",
    "    deps:\n",
    "    - src/kitchen_sink/featurize.py\n",
    "    - data/\n",
    "    params:\n",
    "    - ft.n_neigh\n",
    "    outs:\n",
    "    - data/feature\n",
    "  train:\n",
    "    cmd: python src/kitchen_sink/train.py data/feature data/model\n",
    "    deps:\n",
    "    - src/kitchen_sink/train.py\n",
    "    - data/feature\n",
    "    params:\n",
    "    - train.split\n",
    "    outs:\n",
    "    - data/model"
   ],
   "cell_type": "markdown",
   "metadata": {}
  }
 ]
}