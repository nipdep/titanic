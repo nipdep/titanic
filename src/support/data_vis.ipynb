{
 "metadata": {
  "language_info": {
   "codemirror_mode": {
    "name": "ipython",
    "version": 3
   },
   "file_extension": ".py",
   "mimetype": "text/x-python",
   "name": "python",
   "nbconvert_exporter": "python",
   "pygments_lexer": "ipython3",
   "version": "3.7.7-final"
  },
  "orig_nbformat": 2,
  "kernelspec": {
   "name": "python3",
   "display_name": "Python 3.7.7 64-bit ('.virtualenv')",
   "metadata": {
    "interpreter": {
     "hash": "b0ff01f1b44e16129cb72795b1a70e885cce73264b4598308d3e828a94b27e74"
    }
   }
  }
 },
 "nbformat": 4,
 "nbformat_minor": 2,
 "cells": [
  {
   "cell_type": "code",
   "execution_count": 1,
   "metadata": {},
   "outputs": [],
   "source": [
    "import pandas as pd \n",
    "import sweetviz as sv \n",
    "import numpy as np "
   ]
  },
  {
   "cell_type": "code",
   "execution_count": 2,
   "metadata": {},
   "outputs": [],
   "source": [
    "train_df = pd.read_csv('../../data/data/train.csv')\n",
    "test_df = pd.read_csv('../../data/data/test.csv')\n"
   ]
  },
  {
   "cell_type": "code",
   "execution_count": 3,
   "metadata": {},
   "outputs": [
    {
     "output_type": "stream",
     "name": "stderr",
     "text": [
      "Done! Use 'show' commands to display/save.   |██████████| [100%]   00:01 -> (00:00 left)\n",
      "Report SWEETVIZ_REPORT.html was generated! NOTEBOOK/COLAB USERS: the web browser MAY not pop up, regardless, the report IS saved in your notebook/colab files.\n"
     ]
    }
   ],
   "source": [
    "train_report = sv.analyze(train_df)\n",
    "train_report.show_html()"
   ]
  },
  {
   "cell_type": "code",
   "execution_count": 4,
   "metadata": {},
   "outputs": [
    {
     "output_type": "stream",
     "name": "stderr",
     "text": [
      "Done! Use 'show' commands to display/save.   |██████████| [100%]   00:01 -> (00:00 left)\n",
      "Report SWEETVIZ_REPORT.html was generated! NOTEBOOK/COLAB USERS: the web browser MAY not pop up, regardless, the report IS saved in your notebook/colab files.\n"
     ]
    }
   ],
   "source": [
    "dist_comp = sv.compare(train_df,test_df)\n",
    "dist_comp.show_html()"
   ]
  },
  {
   "source": [
    "stages:\n",
    "  feature:\n",
    "    cmd: python src/kitchen_sink/featurize.py data/ data/feature\n",
    "    deps:\n",
    "    - src/kitchen_sink/featurize.py\n",
    "    - data/\n",
    "    params:\n",
    "    - ft.n_neigh\n",
    "    outs:\n",
    "    - data/feature\n",
    "  train:\n",
    "    cmd: python src/kitchen_sink/train.py data/feature data/model\n",
    "    deps:\n",
    "    - src/kitchen_sink/train.py\n",
    "    - data/feature\n",
    "    params:\n",
    "    - train.split\n",
    "    outs:\n",
    "    - data/model"
   ],
   "cell_type": "markdown",
   "metadata": {}
  }
 ]
}